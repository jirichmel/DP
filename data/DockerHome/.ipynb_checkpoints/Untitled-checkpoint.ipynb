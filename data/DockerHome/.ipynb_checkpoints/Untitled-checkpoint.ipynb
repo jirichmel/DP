{
 "cells": [
  {
   "cell_type": "code",
   "execution_count": 1,
   "id": "1303ff1c",
   "metadata": {},
   "outputs": [],
   "source": [
    "import quippy"
   ]
  },
  {
   "cell_type": "code",
   "execution_count": 2,
   "id": "b7d54d81",
   "metadata": {},
   "outputs": [],
   "source": [
    "from quippy.descriptors import Descriptor"
   ]
  },
  {
   "cell_type": "code",
   "execution_count": 7,
   "id": "bbb67d8f",
   "metadata": {},
   "outputs": [],
   "source": [
    "import numpy as np\n",
    "import pandas as pd\n",
    "import ase\n",
    "import os\n",
    "\n",
    "#from quippy.descriptors import Descriptor\n",
    "#import quippy.descriptors.Descriptor as Descriptor\n",
    "from quippy.descriptors import Descriptor\n",
    "from ase import Atoms\n",
    "\n",
    "at = ase.Atoms(\n",
    "        symbols=['O', 'Ga'],\n",
    "               )\n",
    "at.set_cell\n",
    "\n",
    "at.set_scaled_positions\n",
    "\n",
    "desc = Descriptor(\n",
    "        \"soap cutoff=10 l_max=4 n_max=4 normalize=F atom_sigma=0.5 n_Z=4 Z={8 13 31 49} n_species=4 species_Z={8 13 31 49}\" # n_Z=1 Z={14} \n",
    "        )\n",
    "\n",
    "def get_path(tt: str):\n",
    "    path = '/home/jurka/research-project/'+tt+'/final/'\n",
    "    return path\n"
   ]
  },
  {
   "cell_type": "markdown",
   "id": "77c9416f",
   "metadata": {},
   "source": [
    "### Get the train/test data"
   ]
  },
  {
   "cell_type": "code",
   "execution_count": 4,
   "id": "1aebfbf2",
   "metadata": {},
   "outputs": [
    {
     "name": "stdout",
     "output_type": "stream",
     "text": [
      "          id species     x [A]     y [A]     z [A]\n",
      "0          1      Ga  1.630872  7.250740  6.324361\n",
      "1          1      Al  6.630021  7.245745  6.336774\n",
      "2          1      Al  3.386863  1.289255  1.763723\n",
      "3          1      Ga  8.308420  1.304978  1.782694\n",
      "4          1      Ga  0.909800  2.994510  1.764503\n",
      "...      ...     ...       ...       ...       ...\n",
      "147445  2400       O  5.975104  8.099874  8.040530\n",
      "147446  2400       O  1.018043  7.646383  8.016728\n",
      "147447  2400       O  5.476533  6.034025  1.000423\n",
      "147448  2400       O  8.194732  3.099933  5.646403\n",
      "147449  2400       O  8.105981  6.051474  8.058389\n",
      "\n",
      "[147450 rows x 5 columns]\n",
      "        id species     x [A]     y [A]     z [A]\n",
      "0        1      In  1.342078  7.643380  6.403149\n",
      "1        1      In  6.634789  7.545168  6.217297\n",
      "2        1      In  3.835553  1.275290  1.727485\n",
      "3        1      In  9.018650  1.170920  1.575733\n",
      "4        1      In  1.244861  3.332692  1.979092\n",
      "...    ...     ...       ...       ...       ...\n",
      "37035  600       O  6.452977  8.583567  8.536763\n",
      "37036  600       O  1.292775  8.080034  8.347711\n",
      "37037  600       O  5.824497  6.355746  0.874153\n",
      "37038  600       O  8.613009  3.473720  6.014339\n",
      "37039  600       O  8.406258  6.449917  8.361919\n",
      "\n",
      "[37040 rows x 5 columns]\n",
      "        id  formation_energy_ev_natom  bandgap_energy_ev\n",
      "0        1                   0.067960           3.438673\n",
      "1        2                   0.248968           2.921014\n",
      "2        3                   0.182112           2.743765\n",
      "3        4                   0.217234           3.349245\n",
      "4        5                   0.050455           1.379280\n",
      "...    ...                        ...                ...\n",
      "2386  2396                   0.038148           3.734863\n",
      "2387  2397                   0.067047           3.491524\n",
      "2388  2398                   0.090647           3.274969\n",
      "2389  2399                   0.256584           1.391535\n",
      "2390  2400                   0.113478           4.210687\n",
      "\n",
      "[2391 rows x 3 columns]\n",
      "      id  formation_energy_ev_natom  bandgap_energy_ev\n",
      "0      1                   0.228443           1.358372\n",
      "1      2                   0.059085           3.800492\n",
      "2      3                   0.176310           3.552578\n",
      "3      4                   0.038880           3.017236\n",
      "4      5                   0.146971           1.735439\n",
      "..   ...                        ...                ...\n",
      "595  596                   0.005356           1.401118\n",
      "596  597                   0.234830           0.806807\n",
      "597  598                   0.108598           0.900431\n",
      "598  599                   0.258179           2.272032\n",
      "599  600                   0.206594           2.137465\n",
      "\n",
      "[600 rows x 3 columns]\n",
      "          id species        L1        L2        L3\n",
      "0          1      Ga  0.161225  0.846772  0.693017\n",
      "1          1      Al  0.663710  0.847596  0.695078\n",
      "2          1      Al  0.339848  0.151440  0.193321\n",
      "3          1      Ga  0.834528  0.154660  0.196096\n",
      "4          1      Ga  0.090465  0.349773  0.193898\n",
      "...      ...     ...       ...       ...       ...\n",
      "147445  2400       O  0.659301  0.887727  0.888088\n",
      "147446  2400       O  0.112757  0.839594  0.886610\n",
      "147447  2400       O  0.605483  0.662616  0.110973\n",
      "147448  2400       O  0.902855  0.336692  0.621717\n",
      "147449  2400       O  0.893462  0.661188  0.888797\n",
      "\n",
      "[147450 rows x 5 columns]\n",
      "        id species        L1        L2        L3\n",
      "0        1      In  0.152593  0.862142  0.675555\n",
      "1        1      In  0.656865  0.851722  0.682024\n",
      "2        1      In  0.372143  0.144778  0.198005\n",
      "3        1      In  0.866065  0.133674  0.207438\n",
      "4        1      In  0.126835  0.375467  0.214220\n",
      "...    ...     ...       ...       ...       ...\n",
      "37035  600       O  0.666836  0.887251  0.894294\n",
      "37036  600       O  0.123331  0.843541  0.869818\n",
      "37037  600       O  0.613984  0.658138  0.092213\n",
      "37038  600       O  0.897525  0.346958  0.636122\n",
      "37039  600       O  0.872328  0.659288  0.879607\n",
      "\n",
      "[37040 rows x 5 columns]\n",
      "        id  lattice_vector_1_x  lattice_vector_1_y  lattice_vector_1_z  \\\n",
      "0        1            9.948758           -0.023988           -0.012877   \n",
      "1        2            6.199465            0.016923           -0.012412   \n",
      "2        3            9.849462           -0.013572           -0.147161   \n",
      "3        4            5.007465           -0.004368            0.005070   \n",
      "4        5            6.644448            0.005182            0.000202   \n",
      "...    ...                 ...                 ...                 ...   \n",
      "2386  2396            4.928115           -0.008517           -0.029318   \n",
      "2387  2397            4.956242            0.023875           -0.002402   \n",
      "2388  2398            9.225599           -0.008624           -0.006999   \n",
      "2389  2399           10.726156            0.135666           -0.152791   \n",
      "2390  2400            9.072289            0.030548            0.021527   \n",
      "\n",
      "      lattice_vector_2_x  lattice_vector_2_y  lattice_vector_2_z  \\\n",
      "0               0.020066            8.567744           -0.038975   \n",
      "1              -3.115498            5.364225            0.017218   \n",
      "2               4.932621            2.837125           -0.073890   \n",
      "3              -2.500028            4.338985           -0.003880   \n",
      "4              -3.323296            5.753607            0.001899   \n",
      "...                  ...                 ...                 ...   \n",
      "2386            0.001165            8.490894           -0.007589   \n",
      "2387           -2.498600            4.279960           -0.001656   \n",
      "2388           -0.006928            9.225574           -0.008691   \n",
      "2389            0.076012            9.157343           -0.085433   \n",
      "2390           -0.028646            9.073798           -0.028213   \n",
      "\n",
      "      lattice_vector_3_x  lattice_vector_3_y  lattice_vector_3_z  \n",
      "0               0.014275           -0.000454            9.176459  \n",
      "1               0.047827           -0.047253           23.606042  \n",
      "2              -0.310164           -0.040082           13.959430  \n",
      "3              -0.016903            0.005237           13.564430  \n",
      "4              -0.000589           -0.008493           24.276048  \n",
      "...                  ...                 ...                 ...  \n",
      "2386           -0.001523           -0.016793            9.136523  \n",
      "2387            0.005975            0.009243           13.431205  \n",
      "2388           -0.008635           -0.006940            9.225602  \n",
      "2389           -0.015826            0.096708            9.572697  \n",
      "2390            0.021580            0.027785            9.065974  \n",
      "\n",
      "[2391 rows x 10 columns]\n",
      "      id  lattice_vector_1_x  lattice_vector_1_y  lattice_vector_1_z  \\\n",
      "0      1           10.499116           -0.009870           -0.496096   \n",
      "1      2            9.892248           -0.008023           -0.027166   \n",
      "2      3            4.992885            0.032520           -0.006094   \n",
      "3      4           24.354170           -0.025333            0.536528   \n",
      "4      5           25.438452           -0.095236            0.173148   \n",
      "..   ...                 ...                 ...                 ...   \n",
      "595  596           26.113883            0.026514           -0.052063   \n",
      "596  597            5.623798            0.012388           -0.193756   \n",
      "597  598            6.923840            0.040741            0.018249   \n",
      "598  599            5.158804            0.102315            0.031018   \n",
      "599  600            9.488904            0.160004           -0.087604   \n",
      "\n",
      "     lattice_vector_2_x  lattice_vector_2_y  lattice_vector_2_z  \\\n",
      "0             -0.042507            8.912014           -0.121885   \n",
      "1              0.018658            8.506092           -0.018316   \n",
      "2             -2.524620            4.307695            0.002081   \n",
      "3              0.006274            6.010629            0.007844   \n",
      "4              0.037709            6.336458           -0.012721   \n",
      "..                  ...                 ...                 ...   \n",
      "595           -0.003471            6.472196            0.011207   \n",
      "596           -0.095212            9.431578           -0.140864   \n",
      "597           -3.497483            5.977112            0.007870   \n",
      "598           -0.002764            8.733815           -0.035462   \n",
      "599           -0.025533            9.500432            0.073529   \n",
      "\n",
      "     lattice_vector_3_x  lattice_vector_3_y  lattice_vector_3_z  \n",
      "0             -0.330640           -0.057048            9.745957  \n",
      "1              0.014502           -0.012234            9.133464  \n",
      "2              0.015243            0.005744           13.470521  \n",
      "3             -1.496946           -0.006625            5.566538  \n",
      "4             -1.378109           -0.012422            5.855168  \n",
      "..                  ...                 ...                 ...  \n",
      "595           -1.259209           -0.012844            5.908436  \n",
      "596           -0.183106           -0.231635           10.225816  \n",
      "597           -0.064882           -0.054231           24.925268  \n",
      "598           -0.062137            0.038793            9.745257  \n",
      "599            0.165594            0.053224            9.538191  \n",
      "\n",
      "[600 rows x 10 columns]\n"
     ]
    }
   ],
   "source": [
    "df_xyz_train = pd.read_csv('/root/atoms_xyz_train.csv')\n",
    "print(df_xyz_train)\n",
    "\n",
    "df_xyz_test = pd.read_csv('/root/atoms_xyz_test.csv')\n",
    "print(df_xyz_test)\n",
    "\n",
    "df_energy_train = pd.read_csv('/root/energy_train.csv')\n",
    "print(df_energy_train)\n",
    "\n",
    "df_energy_test = pd.read_csv('/root/energy_test.csv')\n",
    "print(df_energy_test)\n",
    "\n",
    "df_frac_xyz_train = pd.read_csv('/root/atoms_frac_xyz_train.csv')\n",
    "print(df_frac_xyz_train)\n",
    "\n",
    "df_frac_xyz_test = pd.read_csv('/root/atoms_frac_xyz_test.csv')\n",
    "print(df_frac_xyz_test)\n",
    "\n",
    "df_lattice_train = pd.read_csv('/root/lattice_vector_train.csv')\n",
    "print(df_lattice_train)\n",
    "\n",
    "df_lattice_test = pd.read_csv('/root/lattice_vector_test.csv')\n",
    "print(df_lattice_test)"
   ]
  },
  {
   "cell_type": "markdown",
   "id": "0f98a165",
   "metadata": {},
   "source": [
    "## ASE Testing with some deprecated soap testing"
   ]
  },
  {
   "cell_type": "code",
   "execution_count": 22,
   "id": "074b2854",
   "metadata": {},
   "outputs": [],
   "source": [
    "atoms = Atoms('N3', [(0, 0, 0), (1, 0, 0), (0, 0, 1)])"
   ]
  },
  {
   "cell_type": "code",
   "execution_count": 23,
   "id": "adbe39a1",
   "metadata": {},
   "outputs": [
    {
     "data": {
      "text/plain": [
       "array([[0., 0., 0.],\n",
       "       [1., 0., 0.],\n",
       "       [0., 0., 1.]])"
      ]
     },
     "execution_count": 23,
     "metadata": {},
     "output_type": "execute_result"
    }
   ],
   "source": [
    "atoms.get_positions()"
   ]
  },
  {
   "cell_type": "code",
   "execution_count": 24,
   "id": "ed266436",
   "metadata": {},
   "outputs": [],
   "source": [
    "atoms.set_positions([(2, 0, 0), (1, 1, 0), (2, 2, 0)])"
   ]
  },
  {
   "cell_type": "code",
   "execution_count": 25,
   "id": "e2d192db",
   "metadata": {},
   "outputs": [
    {
     "data": {
      "text/plain": [
       "array([[2., 0., 0.],\n",
       "       [1., 1., 0.],\n",
       "       [2., 2., 0.]])"
      ]
     },
     "execution_count": 25,
     "metadata": {},
     "output_type": "execute_result"
    }
   ],
   "source": [
    "atoms.get_positions()"
   ]
  },
  {
   "cell_type": "code",
   "execution_count": 26,
   "id": "653db255",
   "metadata": {},
   "outputs": [
    {
     "data": {
      "text/plain": [
       "array([7, 7, 7])"
      ]
     },
     "execution_count": 26,
     "metadata": {},
     "output_type": "execute_result"
    }
   ],
   "source": [
    "atoms.get_atomic_numbers()"
   ]
  },
  {
   "cell_type": "code",
   "execution_count": 27,
   "id": "c059cb43",
   "metadata": {},
   "outputs": [],
   "source": [
    "atoms.set_atomic_numbers([5,5,5])"
   ]
  },
  {
   "cell_type": "code",
   "execution_count": 28,
   "id": "d72425ac",
   "metadata": {},
   "outputs": [
    {
     "data": {
      "text/plain": [
       "array([5, 5, 5])"
      ]
     },
     "execution_count": 28,
     "metadata": {},
     "output_type": "execute_result"
    }
   ],
   "source": [
    "atoms.get_atomic_numbers()"
   ]
  },
  {
   "cell_type": "code",
   "execution_count": 105,
   "id": "08d9f7fd",
   "metadata": {},
   "outputs": [],
   "source": [
    "from ase.build import molecule\n",
    "atoms = molecule('CH3CH2OH')\n",
    "#del atoms[[atom.index for atom in atoms if atom.symbol=='H']]"
   ]
  },
  {
   "cell_type": "code",
   "execution_count": 106,
   "id": "edadc365",
   "metadata": {},
   "outputs": [
    {
     "data": {
      "text/plain": [
       "Atoms(symbols='C2OH6', pbc=False)"
      ]
     },
     "execution_count": 106,
     "metadata": {},
     "output_type": "execute_result"
    }
   ],
   "source": [
    "atoms\n",
    "# n_Z=2 Z={1 6} n_species=2 species_Z={1 6}"
   ]
  },
  {
   "cell_type": "code",
   "execution_count": 107,
   "id": "da462a12",
   "metadata": {},
   "outputs": [],
   "source": [
    "SOAP_descriptor = desc.calc(atoms)['data']#.flatten()"
   ]
  },
  {
   "cell_type": "code",
   "execution_count": 108,
   "id": "9e7688b7",
   "metadata": {},
   "outputs": [
    {
     "data": {
      "text/plain": [
       "(9, 51)"
      ]
     },
     "execution_count": 108,
     "metadata": {},
     "output_type": "execute_result"
    }
   ],
   "source": [
    "desc.calc_descriptor(atoms).shape"
   ]
  },
  {
   "cell_type": "code",
   "execution_count": 109,
   "id": "0b3e428b",
   "metadata": {},
   "outputs": [
    {
     "data": {
      "text/plain": [
       "True"
      ]
     },
     "execution_count": 109,
     "metadata": {},
     "output_type": "execute_result"
    }
   ],
   "source": [
    "(SOAP_descriptor == desc.calc_descriptor(atoms)).all()"
   ]
  },
  {
   "cell_type": "markdown",
   "id": "7391a658",
   "metadata": {},
   "source": [
    "## Test on our data with default settings\n",
    "Should the values of n_Z and n_species together with the sets change when the actual number of species in the compound changes?"
   ]
  },
  {
   "cell_type": "code",
   "execution_count": 175,
   "id": "769590f6",
   "metadata": {},
   "outputs": [],
   "source": [
    "# Test on our data if we get 681 long descriptor:\n",
    "structure = df_xyz_train[df_xyz_train.id==1]\n",
    "atoms = Atoms(structure.species.to_list(), structure[structure.columns[-3:]].to_numpy())\n",
    "desc = Descriptor(\n",
    "        \"soap cutoff=10 l_max=4 n_max=4 normalize=T atom_sigma=0.5 n_Z=4 Z={8 13 31 49} n_species=4 species_Z={8 13 31 49}\" # n_Z=1 Z={14} \n",
    "        )"
   ]
  },
  {
   "cell_type": "code",
   "execution_count": 182,
   "id": "0c0cbcc9",
   "metadata": {},
   "outputs": [],
   "source": [
    "mean_soap = np.mean(soap, axis=0)"
   ]
  },
  {
   "cell_type": "markdown",
   "id": "c13734c4",
   "metadata": {},
   "source": [
    "## Calculate the descriptors for the Kaggle competition data"
   ]
  },
  {
   "cell_type": "code",
   "execution_count": 14,
   "id": "757b505d",
   "metadata": {},
   "outputs": [],
   "source": [
    "def calc_desc(df_xyz):\n",
    "    df = {}\n",
    "    desc = Descriptor(\n",
    "        \"soap cutoff=10 l_max=4 n_max=4 normalize=F atom_sigma=0.5 n_Z=4 Z={8 13 31 49} n_species=4 species_Z={8 13 31 49}\" # n_Z=1 Z={14} \n",
    "        )\n",
    "    for i in df_xyz.id.unique():\n",
    "        struct = df_xyz[df_xyz.id==i]\n",
    "        atoms = Atoms(struct.species.to_list(), struct[struct.columns[-3:]].to_numpy())\n",
    "        mean_soap = np.mean(desc.calc_descriptor(atoms), axis=0)\n",
    "        df[i] = mean_soap\n",
    "    return pd.DataFrame(df).transpose().to_numpy()"
   ]
  },
  {
   "cell_type": "code",
   "execution_count": 15,
   "id": "ce1fba44",
   "metadata": {},
   "outputs": [],
   "source": [
    "soap_train = calc_desc(df_xyz_train)\n",
    "soap_test = calc_desc(df_xyz_test)"
   ]
  },
  {
   "cell_type": "code",
   "execution_count": 16,
   "id": "9c8b5dea",
   "metadata": {},
   "outputs": [],
   "source": [
    "np.savetxt('/root/soap_train_unnormalized.csv', soap_train, delimiter=\",\")\n",
    "np.savetxt('/root/soap_test_unnormalized.csv', soap_test, delimiter=\",\")"
   ]
  },
  {
   "cell_type": "code",
   "execution_count": 17,
   "id": "62a7127e",
   "metadata": {},
   "outputs": [],
   "source": [
    "# soap_*_unnormalized -- not normalized, normalize=F\n",
    "# soap_*_default -- normalized, normalize=T"
   ]
  },
  {
   "cell_type": "code",
   "execution_count": null,
   "id": "a2c4e009",
   "metadata": {},
   "outputs": [],
   "source": []
  }
 ],
 "metadata": {
  "kernelspec": {
   "display_name": "Python 3",
   "language": "python",
   "name": "python3"
  },
  "language_info": {
   "codemirror_mode": {
    "name": "ipython",
    "version": 3
   },
   "file_extension": ".py",
   "mimetype": "text/x-python",
   "name": "python",
   "nbconvert_exporter": "python",
   "pygments_lexer": "ipython3",
   "version": "3.7.10"
  }
 },
 "nbformat": 4,
 "nbformat_minor": 5
}
